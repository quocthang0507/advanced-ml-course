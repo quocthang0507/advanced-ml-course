{
  "cells": [
    {
      "cell_type": "code",
      "execution_count": 6,
      "metadata": {
        "id": "UQ7K64H0Xl-i"
      },
      "outputs": [
        {
          "name": "stdout",
          "output_type": "stream",
          "text": [
            "Requirement already satisfied: gymnasium[accept-rom-license,atari] in c:\\users\\thanglq\\documents\\github\\advanced-ml-course\\.venv\\lib\\site-packages (1.1.1)\n",
            "Requirement already satisfied: numpy>=1.21.0 in c:\\users\\thanglq\\documents\\github\\advanced-ml-course\\.venv\\lib\\site-packages (from gymnasium[accept-rom-license,atari]) (2.1.3)\n",
            "Requirement already satisfied: cloudpickle>=1.2.0 in c:\\users\\thanglq\\documents\\github\\advanced-ml-course\\.venv\\lib\\site-packages (from gymnasium[accept-rom-license,atari]) (3.1.1)\n",
            "Requirement already satisfied: typing-extensions>=4.3.0 in c:\\users\\thanglq\\documents\\github\\advanced-ml-course\\.venv\\lib\\site-packages (from gymnasium[accept-rom-license,atari]) (4.12.2)\n",
            "Requirement already satisfied: farama-notifications>=0.0.1 in c:\\users\\thanglq\\documents\\github\\advanced-ml-course\\.venv\\lib\\site-packages (from gymnasium[accept-rom-license,atari]) (0.0.4)\n",
            "Requirement already satisfied: ale_py>=0.9 in c:\\users\\thanglq\\documents\\github\\advanced-ml-course\\.venv\\lib\\site-packages (from gymnasium[accept-rom-license,atari]) (0.10.2)\n"
          ]
        },
        {
          "name": "stderr",
          "output_type": "stream",
          "text": [
            "WARNING: gymnasium 1.1.1 does not provide the extra 'accept-rom-license'\n"
          ]
        },
        {
          "name": "stdout",
          "output_type": "stream",
          "text": [
            "Requirement already satisfied: ale-py in c:\\users\\thanglq\\documents\\github\\advanced-ml-course\\.venv\\lib\\site-packages (0.10.2)\n",
            "Requirement already satisfied: numpy>1.20 in c:\\users\\thanglq\\documents\\github\\advanced-ml-course\\.venv\\lib\\site-packages (from ale-py) (2.1.3)\n"
          ]
        }
      ],
      "source": [
        "!pip install gymnasium[atari,accept-rom-license]\n",
        "!pip install ale-py"
      ]
    },
    {
      "cell_type": "code",
      "execution_count": 7,
      "metadata": {},
      "outputs": [
        {
          "name": "stdout",
          "output_type": "stream",
          "text": [
            "Requirement already satisfied: gymnasium in c:\\users\\thanglq\\documents\\github\\advanced-ml-course\\.venv\\lib\\site-packages (1.1.1)\n",
            "Requirement already satisfied: numpy in c:\\users\\thanglq\\documents\\github\\advanced-ml-course\\.venv\\lib\\site-packages (2.1.3)\n",
            "Requirement already satisfied: tensorflow in c:\\users\\thanglq\\documents\\github\\advanced-ml-course\\.venv\\lib\\site-packages (2.19.0)\n",
            "Requirement already satisfied: matplotlib in c:\\users\\thanglq\\documents\\github\\advanced-ml-course\\.venv\\lib\\site-packages (3.10.1)\n",
            "Requirement already satisfied: opencv-python in c:\\users\\thanglq\\documents\\github\\advanced-ml-course\\.venv\\lib\\site-packages (4.11.0.86)\n",
            "Requirement already satisfied: cloudpickle>=1.2.0 in c:\\users\\thanglq\\documents\\github\\advanced-ml-course\\.venv\\lib\\site-packages (from gymnasium) (3.1.1)\n",
            "Requirement already satisfied: typing-extensions>=4.3.0 in c:\\users\\thanglq\\documents\\github\\advanced-ml-course\\.venv\\lib\\site-packages (from gymnasium) (4.12.2)\n",
            "Requirement already satisfied: farama-notifications>=0.0.1 in c:\\users\\thanglq\\documents\\github\\advanced-ml-course\\.venv\\lib\\site-packages (from gymnasium) (0.0.4)\n",
            "Requirement already satisfied: absl-py>=1.0.0 in c:\\users\\thanglq\\documents\\github\\advanced-ml-course\\.venv\\lib\\site-packages (from tensorflow) (2.1.0)\n",
            "Requirement already satisfied: astunparse>=1.6.0 in c:\\users\\thanglq\\documents\\github\\advanced-ml-course\\.venv\\lib\\site-packages (from tensorflow) (1.6.3)\n",
            "Requirement already satisfied: flatbuffers>=24.3.25 in c:\\users\\thanglq\\documents\\github\\advanced-ml-course\\.venv\\lib\\site-packages (from tensorflow) (25.2.10)\n",
            "Requirement already satisfied: gast!=0.5.0,!=0.5.1,!=0.5.2,>=0.2.1 in c:\\users\\thanglq\\documents\\github\\advanced-ml-course\\.venv\\lib\\site-packages (from tensorflow) (0.6.0)\n",
            "Requirement already satisfied: google-pasta>=0.1.1 in c:\\users\\thanglq\\documents\\github\\advanced-ml-course\\.venv\\lib\\site-packages (from tensorflow) (0.2.0)\n",
            "Requirement already satisfied: libclang>=13.0.0 in c:\\users\\thanglq\\documents\\github\\advanced-ml-course\\.venv\\lib\\site-packages (from tensorflow) (18.1.1)\n",
            "Requirement already satisfied: opt-einsum>=2.3.2 in c:\\users\\thanglq\\documents\\github\\advanced-ml-course\\.venv\\lib\\site-packages (from tensorflow) (3.4.0)\n",
            "Requirement already satisfied: packaging in c:\\users\\thanglq\\documents\\github\\advanced-ml-course\\.venv\\lib\\site-packages (from tensorflow) (24.2)\n",
            "Requirement already satisfied: protobuf!=4.21.0,!=4.21.1,!=4.21.2,!=4.21.3,!=4.21.4,!=4.21.5,<6.0.0dev,>=3.20.3 in c:\\users\\thanglq\\documents\\github\\advanced-ml-course\\.venv\\lib\\site-packages (from tensorflow) (5.29.3)\n",
            "Requirement already satisfied: requests<3,>=2.21.0 in c:\\users\\thanglq\\documents\\github\\advanced-ml-course\\.venv\\lib\\site-packages (from tensorflow) (2.32.3)\n",
            "Requirement already satisfied: setuptools in c:\\users\\thanglq\\documents\\github\\advanced-ml-course\\.venv\\lib\\site-packages (from tensorflow) (65.5.0)\n",
            "Requirement already satisfied: six>=1.12.0 in c:\\users\\thanglq\\documents\\github\\advanced-ml-course\\.venv\\lib\\site-packages (from tensorflow) (1.17.0)\n",
            "Requirement already satisfied: termcolor>=1.1.0 in c:\\users\\thanglq\\documents\\github\\advanced-ml-course\\.venv\\lib\\site-packages (from tensorflow) (2.5.0)\n",
            "Requirement already satisfied: wrapt>=1.11.0 in c:\\users\\thanglq\\documents\\github\\advanced-ml-course\\.venv\\lib\\site-packages (from tensorflow) (1.17.2)\n",
            "Requirement already satisfied: grpcio<2.0,>=1.24.3 in c:\\users\\thanglq\\documents\\github\\advanced-ml-course\\.venv\\lib\\site-packages (from tensorflow) (1.71.0)\n",
            "Requirement already satisfied: tensorboard~=2.19.0 in c:\\users\\thanglq\\documents\\github\\advanced-ml-course\\.venv\\lib\\site-packages (from tensorflow) (2.19.0)\n",
            "Requirement already satisfied: keras>=3.5.0 in c:\\users\\thanglq\\documents\\github\\advanced-ml-course\\.venv\\lib\\site-packages (from tensorflow) (3.9.0)\n",
            "Requirement already satisfied: h5py>=3.11.0 in c:\\users\\thanglq\\documents\\github\\advanced-ml-course\\.venv\\lib\\site-packages (from tensorflow) (3.13.0)\n",
            "Requirement already satisfied: ml-dtypes<1.0.0,>=0.5.1 in c:\\users\\thanglq\\documents\\github\\advanced-ml-course\\.venv\\lib\\site-packages (from tensorflow) (0.5.1)\n",
            "Requirement already satisfied: tensorflow-io-gcs-filesystem>=0.23.1 in c:\\users\\thanglq\\documents\\github\\advanced-ml-course\\.venv\\lib\\site-packages (from tensorflow) (0.31.0)\n",
            "Requirement already satisfied: contourpy>=1.0.1 in c:\\users\\thanglq\\documents\\github\\advanced-ml-course\\.venv\\lib\\site-packages (from matplotlib) (1.3.1)\n",
            "Requirement already satisfied: cycler>=0.10 in c:\\users\\thanglq\\documents\\github\\advanced-ml-course\\.venv\\lib\\site-packages (from matplotlib) (0.12.1)\n",
            "Requirement already satisfied: fonttools>=4.22.0 in c:\\users\\thanglq\\documents\\github\\advanced-ml-course\\.venv\\lib\\site-packages (from matplotlib) (4.56.0)\n",
            "Requirement already satisfied: kiwisolver>=1.3.1 in c:\\users\\thanglq\\documents\\github\\advanced-ml-course\\.venv\\lib\\site-packages (from matplotlib) (1.4.8)\n",
            "Requirement already satisfied: pillow>=8 in c:\\users\\thanglq\\documents\\github\\advanced-ml-course\\.venv\\lib\\site-packages (from matplotlib) (11.1.0)\n",
            "Requirement already satisfied: pyparsing>=2.3.1 in c:\\users\\thanglq\\documents\\github\\advanced-ml-course\\.venv\\lib\\site-packages (from matplotlib) (3.2.1)\n",
            "Requirement already satisfied: python-dateutil>=2.7 in c:\\users\\thanglq\\documents\\github\\advanced-ml-course\\.venv\\lib\\site-packages (from matplotlib) (2.9.0.post0)\n",
            "Requirement already satisfied: wheel<1.0,>=0.23.0 in c:\\users\\thanglq\\documents\\github\\advanced-ml-course\\.venv\\lib\\site-packages (from astunparse>=1.6.0->tensorflow) (0.45.1)\n",
            "Requirement already satisfied: rich in c:\\users\\thanglq\\documents\\github\\advanced-ml-course\\.venv\\lib\\site-packages (from keras>=3.5.0->tensorflow) (13.9.4)\n",
            "Requirement already satisfied: namex in c:\\users\\thanglq\\documents\\github\\advanced-ml-course\\.venv\\lib\\site-packages (from keras>=3.5.0->tensorflow) (0.0.8)\n",
            "Requirement already satisfied: optree in c:\\users\\thanglq\\documents\\github\\advanced-ml-course\\.venv\\lib\\site-packages (from keras>=3.5.0->tensorflow) (0.14.1)\n",
            "Requirement already satisfied: charset-normalizer<4,>=2 in c:\\users\\thanglq\\documents\\github\\advanced-ml-course\\.venv\\lib\\site-packages (from requests<3,>=2.21.0->tensorflow) (3.4.1)\n",
            "Requirement already satisfied: idna<4,>=2.5 in c:\\users\\thanglq\\documents\\github\\advanced-ml-course\\.venv\\lib\\site-packages (from requests<3,>=2.21.0->tensorflow) (3.10)\n",
            "Requirement already satisfied: urllib3<3,>=1.21.1 in c:\\users\\thanglq\\documents\\github\\advanced-ml-course\\.venv\\lib\\site-packages (from requests<3,>=2.21.0->tensorflow) (2.3.0)\n",
            "Requirement already satisfied: certifi>=2017.4.17 in c:\\users\\thanglq\\documents\\github\\advanced-ml-course\\.venv\\lib\\site-packages (from requests<3,>=2.21.0->tensorflow) (2025.1.31)\n",
            "Requirement already satisfied: markdown>=2.6.8 in c:\\users\\thanglq\\documents\\github\\advanced-ml-course\\.venv\\lib\\site-packages (from tensorboard~=2.19.0->tensorflow) (3.7)\n",
            "Requirement already satisfied: tensorboard-data-server<0.8.0,>=0.7.0 in c:\\users\\thanglq\\documents\\github\\advanced-ml-course\\.venv\\lib\\site-packages (from tensorboard~=2.19.0->tensorflow) (0.7.2)\n",
            "Requirement already satisfied: werkzeug>=1.0.1 in c:\\users\\thanglq\\documents\\github\\advanced-ml-course\\.venv\\lib\\site-packages (from tensorboard~=2.19.0->tensorflow) (3.1.3)\n",
            "Requirement already satisfied: MarkupSafe>=2.1.1 in c:\\users\\thanglq\\documents\\github\\advanced-ml-course\\.venv\\lib\\site-packages (from werkzeug>=1.0.1->tensorboard~=2.19.0->tensorflow) (3.0.2)\n",
            "Requirement already satisfied: markdown-it-py>=2.2.0 in c:\\users\\thanglq\\documents\\github\\advanced-ml-course\\.venv\\lib\\site-packages (from rich->keras>=3.5.0->tensorflow) (3.0.0)\n",
            "Requirement already satisfied: pygments<3.0.0,>=2.13.0 in c:\\users\\thanglq\\documents\\github\\advanced-ml-course\\.venv\\lib\\site-packages (from rich->keras>=3.5.0->tensorflow) (2.19.1)\n",
            "Requirement already satisfied: mdurl~=0.1 in c:\\users\\thanglq\\documents\\github\\advanced-ml-course\\.venv\\lib\\site-packages (from markdown-it-py>=2.2.0->rich->keras>=3.5.0->tensorflow) (0.1.2)\n"
          ]
        }
      ],
      "source": [
        "!pip install gymnasium numpy tensorflow matplotlib opencv-python tensorflow"
      ]
    },
    {
      "cell_type": "code",
      "execution_count": 8,
      "metadata": {
        "id": "e5-mJ94JXs7W"
      },
      "outputs": [],
      "source": [
        "import gymnasium as gym\n",
        "import numpy as np\n",
        "import random\n",
        "import tensorflow as tf\n",
        "import matplotlib.pyplot as plt\n",
        "import cv2\n",
        "import ale_py\n",
        "from collections import deque\n",
        "from tensorflow.keras.models import Sequential\n",
        "from tensorflow.keras.layers import Dense, Conv2D, Flatten\n",
        "from tensorflow.keras.optimizers import Adam\n",
        "from tensorflow.keras.models import load_model"
      ]
    },
    {
      "cell_type": "code",
      "execution_count": 9,
      "metadata": {
        "id": "5-dKpHD3XwwC"
      },
      "outputs": [],
      "source": [
        "# Hyperparameters\n",
        "GAMMA = 0.99  # Discount factor\n",
        "EPSILON = 1.0  # Initial exploration rate\n",
        "EPSILON_MIN = 0.1  # Minimum exploration rate\n",
        "EPSILON_DECAY = 0.995  # Decay rate\n",
        "LEARNING_RATE = 0.00025  # Learning rate\n",
        "MEMORY_SIZE = 5000  # Experience replay buffer size\n",
        "BATCH_SIZE = 64  # Batch size\n",
        "TARGET_UPDATE_FREQ = 10  # Target model update frequency\n",
        "EPISODES = 50  # Total training episodes\n",
        "RECORD = False\n",
        "LOAD_MODEL = False"
      ]
    },
    {
      "cell_type": "code",
      "execution_count": 10,
      "metadata": {
        "id": "ToW7zUVuXyhj"
      },
      "outputs": [],
      "source": [
        "# Create Pac-Man environment\n",
        "env = gym.make(\"ALE/MsPacman-v5\", render_mode=\"rgb_array\")\n",
        "state_shape = (88, 80, 1)  # Resized grayscale shape\n",
        "# action_size = env.action_space.n\n",
        "action_size = 5 # nope, up, right, down, left"
      ]
    },
    {
      "cell_type": "code",
      "execution_count": 11,
      "metadata": {
        "id": "xhvJd3W0X0hb"
      },
      "outputs": [],
      "source": [
        "# Function to preprocess frames\n",
        "def preprocess_state(state):\n",
        "    \"\"\"Convert RGB to grayscale and resize.\"\"\"\n",
        "    state = cv2.cvtColor(state, cv2.COLOR_RGB2GRAY)  # Convert to grayscale\n",
        "    state = cv2.resize(state, (80, 88))  # Resize\n",
        "    return np.expand_dims(state, axis=-1) / 255.0  # Normalize"
      ]
    },
    {
      "cell_type": "code",
      "execution_count": 12,
      "metadata": {
        "id": "J8Y2P73OX2ve"
      },
      "outputs": [],
      "source": [
        "# Build the DQN model with GPU optimization\n",
        "def build_model():\n",
        "    model = Sequential([\n",
        "        Conv2D(32, (8, 8), strides=(4, 4), activation=\"relu\", input_shape=state_shape),\n",
        "        Conv2D(64, (4, 4), strides=(2, 2), activation=\"relu\"),\n",
        "        Conv2D(64, (3, 3), strides=(1, 1), activation=\"relu\"),\n",
        "        Flatten(),\n",
        "        Dense(512, activation=\"relu\"),\n",
        "        Dense(action_size, activation=\"linear\")  # Q-values output\n",
        "    ])\n",
        "    model.compile(optimizer=Adam(learning_rate=LEARNING_RATE), loss=\"mse\")\n",
        "    return model"
      ]
    },
    {
      "cell_type": "code",
      "execution_count": 13,
      "metadata": {
        "id": "FKD8jE1xX5wH"
      },
      "outputs": [],
      "source": [
        "# DQN Agent\n",
        "class DQNAgent:\n",
        "    def __init__(self):\n",
        "        self.model = build_model()\n",
        "        self.target_model = build_model()\n",
        "        self.target_model.set_weights(self.model.get_weights())  # Sync target model\n",
        "        self.memory = deque(maxlen=MEMORY_SIZE)\n",
        "        self.epsilon = EPSILON\n",
        "\n",
        "    def act(self, state):\n",
        "        \"\"\"Choose action using ε-greedy strategy.\"\"\"\n",
        "        if np.random.rand() <= self.epsilon:\n",
        "            return random.randrange(action_size)  # Random action (exploration)\n",
        "        q_values = self.model.predict(np.expand_dims(state, axis=0), verbose=0)\n",
        "        return np.argmax(q_values[0])  # Best action (exploitation)\n",
        "\n",
        "    def remember(self, state, action, reward, next_state, done):\n",
        "        \"\"\"Store experience in memory.\"\"\"\n",
        "        self.memory.append((state, action, reward, next_state, done))\n",
        "\n",
        "    def replay(self):\n",
        "        \"\"\"Train the model using experience replay.\"\"\"\n",
        "        if len(self.memory) < BATCH_SIZE:\n",
        "            return\n",
        "        batch = random.sample(self.memory, BATCH_SIZE)\n",
        "        states, targets = [], []\n",
        "        for state, action, reward, next_state, done in batch:\n",
        "            target = self.model.predict(np.expand_dims(state, axis=0), verbose=0)[0]\n",
        "            if done:\n",
        "                target[action] = reward\n",
        "            else:\n",
        "                next_q_values = self.target_model.predict(np.expand_dims(next_state, axis=0), verbose=0)[0]\n",
        "                target[action] = reward + GAMMA * np.max(next_q_values)\n",
        "            states.append(state)\n",
        "            targets.append(target)\n",
        "\n",
        "        # Train model in batches\n",
        "        self.model.fit(np.array(states), np.array(targets), epochs=1, verbose=0, batch_size=BATCH_SIZE)\n",
        "\n",
        "        if self.epsilon > EPSILON_MIN:\n",
        "            self.epsilon *= EPSILON_DECAY  # Decay exploration rate\n",
        "\n",
        "    def update_target_model(self):\n",
        "        \"\"\"Update target model weights.\"\"\"\n",
        "        self.target_model.set_weights(self.model.get_weights())"
      ]
    },
    {
      "cell_type": "code",
      "execution_count": 14,
      "metadata": {
        "id": "hzhffBoGX6pZ"
      },
      "outputs": [
        {
          "name": "stderr",
          "output_type": "stream",
          "text": [
            "c:\\Users\\thanglq\\Documents\\GitHub\\advanced-ml-course\\.venv\\Lib\\site-packages\\keras\\src\\layers\\convolutional\\base_conv.py:107: UserWarning: Do not pass an `input_shape`/`input_dim` argument to a layer. When using Sequential models, prefer using an `Input(shape)` object as the first layer in the model instead.\n",
            "  super().__init__(activity_regularizer=activity_regularizer, **kwargs)\n"
          ]
        }
      ],
      "source": [
        "# Train the agent\n",
        "agent = DQNAgent()"
      ]
    },
    {
      "cell_type": "code",
      "execution_count": 15,
      "metadata": {
        "id": "ZbeKtAlqX9tj"
      },
      "outputs": [],
      "source": [
        "# Visualization function for Colab\n",
        "def show_frame(frame):\n",
        "    plt.imshow(frame)\n",
        "    plt.axis(\"off\")\n",
        "    plt.show()"
      ]
    },
    {
      "cell_type": "code",
      "execution_count": 16,
      "metadata": {
        "id": "zVtEPbKzYBQT"
      },
      "outputs": [],
      "source": [
        "# Training loop\n",
        "def train():\n",
        "    for episode in range(EPISODES):\n",
        "        state = preprocess_state(env.reset()[0])\n",
        "        done = False\n",
        "        total_reward = 0\n",
        "\n",
        "        while not done:\n",
        "            action = agent.act(state)\n",
        "            next_state, reward, done, _, _ = env.step(action)\n",
        "            next_state = preprocess_state(next_state)\n",
        "            agent.remember(state, action, reward, next_state, done)\n",
        "            state = next_state\n",
        "            total_reward += reward\n",
        "            agent.replay()\n",
        "\n",
        "        # Update target network periodically\n",
        "        if episode % TARGET_UPDATE_FREQ == 0:\n",
        "            agent.update_target_model()\n",
        "\n",
        "        print(f\"Episode {episode + 1}/{EPISODES}, Score: {total_reward}, Epsilon: {agent.epsilon:.4f}\")\n",
        "\n",
        "    env.close()"
      ]
    },
    {
      "cell_type": "code",
      "execution_count": null,
      "metadata": {
        "id": "1yfp_xt3hme9"
      },
      "outputs": [],
      "source": [
        "if LOAD_MODEL:\n",
        "    agent.model = load_model(\"pacman_dqn.keras\")\n",
        "else:\n",
        "    train()\n",
        "    agent.model.save(\"pacman_dqn.keras\")"
      ]
    }
  ],
  "metadata": {
    "colab": {
      "provenance": []
    },
    "kernelspec": {
      "display_name": ".venv",
      "language": "python",
      "name": "python3"
    },
    "language_info": {
      "codemirror_mode": {
        "name": "ipython",
        "version": 3
      },
      "file_extension": ".py",
      "mimetype": "text/x-python",
      "name": "python",
      "nbconvert_exporter": "python",
      "pygments_lexer": "ipython3",
      "version": "3.11.9"
    },
    "orig_nbformat": 4
  },
  "nbformat": 4,
  "nbformat_minor": 0
}
