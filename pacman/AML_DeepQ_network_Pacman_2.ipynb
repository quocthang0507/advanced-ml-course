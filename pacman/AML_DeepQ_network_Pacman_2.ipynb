{
  "cells": [
    {
      "cell_type": "markdown",
      "metadata": {
        "id": "br4lf3EwHyoC"
      },
      "source": [
        "# Install Dependencies"
      ]
    },
    {
      "cell_type": "code",
      "execution_count": 12,
      "metadata": {
        "colab": {
          "base_uri": "https://localhost:8080/"
        },
        "collapsed": true,
        "id": "7GprE6gVHz0a",
        "outputId": "d56fc9d0-16f4-4930-a1b6-7f587fe7126c"
      },
      "outputs": [
        {
          "output_type": "stream",
          "name": "stdout",
          "text": [
            "\u001b[?25l   \u001b[90m━━━━━━━━━━━━━━━━━━━━━━━━━━━━━━━━━━━━━━━━\u001b[0m \u001b[32m0.0/184.5 kB\u001b[0m \u001b[31m?\u001b[0m eta \u001b[36m-:--:--\u001b[0m\r\u001b[2K   \u001b[90m━━━━━━━━━━━━━━━━━━━━━━━━━━━━━━━━━━━━━━━━\u001b[0m \u001b[32m184.5/184.5 kB\u001b[0m \u001b[31m12.9 MB/s\u001b[0m eta \u001b[36m0:00:00\u001b[0m\n",
            "\u001b[?25h"
          ]
        }
      ],
      "source": [
        "!pip install -q --upgrade gymnasium\n",
        "!pip install -q --upgrade ale-py\n",
        "!pip install -q --upgrade torch\n",
        "!pip install -q --upgrade numpy\n",
        "!pip install -q --upgrade matplotlib\n",
        "!pip install -q --upgrade \"gymnasium[other]\"\n",
        "!pip install -q --upgrade stable-baselines3"
      ]
    },
    {
      "cell_type": "markdown",
      "metadata": {
        "id": "1dkKrRif9Yc9"
      },
      "source": [
        "# Import Required Libraries"
      ]
    },
    {
      "cell_type": "code",
      "execution_count": 13,
      "metadata": {
        "id": "ZAa-mrOOF6LV"
      },
      "outputs": [],
      "source": [
        "import gymnasium as gym\n",
        "import ale_py\n",
        "import torch\n",
        "import torch.nn as nn\n",
        "import torch.optim as optim\n",
        "import numpy as np\n",
        "import random\n",
        "import collections\n",
        "import matplotlib.pyplot as plt\n",
        "from stable_baselines3.common.atari_wrappers import ClipRewardEnv"
      ]
    },
    {
      "cell_type": "markdown",
      "metadata": {
        "id": "tL8WD5cF9i6z"
      },
      "source": [
        "# Test Atari Environment"
      ]
    },
    {
      "cell_type": "code",
      "execution_count": 3,
      "metadata": {
        "colab": {
          "base_uri": "https://localhost:8080/",
          "height": 504
        },
        "id": "N7xCJOtF9xAx",
        "outputId": "854bfb43-98a1-422e-de53-902ad5d485ca"
      },
      "outputs": [
        {
          "output_type": "stream",
          "name": "stdout",
          "text": [
            "Observation Space: (250, 160, 3)\n",
            "Action Space: 5\n",
            "Action meaning: ['NOOP', 'UP', 'RIGHT', 'LEFT', 'DOWN']\n"
          ]
        },
        {
          "output_type": "execute_result",
          "data": {
            "text/plain": [
              "<matplotlib.image.AxesImage at 0x7b3c0d498d10>"
            ]
          },
          "metadata": {},
          "execution_count": 3
        },
        {
          "output_type": "display_data",
          "data": {
            "text/plain": [
              "<Figure size 640x480 with 1 Axes>"
            ],
            "image/png": "[encoded data removed]"
          },
          "metadata": {}
        }
      ],
      "source": [
        "env = gym.make(\"ALE/Pacman-v5\")  # Load Atari Pacman\n",
        "obs, info = env.reset()  # Reset environment and get initial observation\n",
        "env.close()\n",
        "\n",
        "print(\"Observation Space:\", env.observation_space.shape)  # (210, 160, 3) -> RGB Image\n",
        "print(\"Action Space:\", env.action_space.n)  # 5 possible actions\n",
        "print(\"Action meaning:\", env.unwrapped.get_action_meanings()) # action meaning\n",
        "plt.imshow(obs) # show obs as a frame"
      ]
    },
    {
      "cell_type": "markdown",
      "metadata": {
        "id": "wQ8M0p3tHo1L"
      },
      "source": [
        "# Define the Q-Network (CNN-based)\n",
        "\n",
        "Atari games involve image inputs, so we use a **Convolutional Neural Network (CNN)** instead of a fully connected network."
      ]
    },
    {
      "cell_type": "code",
      "execution_count": 4,
      "metadata": {
        "id": "GDNF0RcGHoij"
      },
      "outputs": [],
      "source": [
        "class DQN(nn.Module):\n",
        "    def __init__(self, action_dim):\n",
        "        super(DQN, self).__init__()\n",
        "        self.conv1 = nn.Conv2d(4, 32, kernel_size=8, stride=4)\n",
        "        self.conv2 = nn.Conv2d(32, 64, kernel_size=4, stride=2)\n",
        "        self.conv3 = nn.Conv2d(64, 64, kernel_size=3, stride=1)\n",
        "\n",
        "        self.fc1 = nn.Linear(64 * 7 * 7, 512)\n",
        "        self.fc2 = nn.Linear(512, action_dim)\n",
        "\n",
        "    def forward(self, x):\n",
        "        x = torch.relu(self.conv1(x))\n",
        "        x = torch.relu(self.conv2(x))\n",
        "        x = torch.relu(self.conv3(x))\n",
        "        x = x.view(x.size(0), -1)  # Flatten\n",
        "        x = torch.relu(self.fc1(x))\n",
        "        return self.fc2(x)  # No activation (raw Q-values)"
      ]
    },
    {
      "cell_type": "markdown",
      "metadata": {
        "id": "VoetLK7HHoSZ"
      },
      "source": [
        "# Experience Replay Buffer"
      ]
    },
    {
      "cell_type": "code",
      "execution_count": 5,
      "metadata": {
        "id": "K30ATHQCJHUj"
      },
      "outputs": [],
      "source": [
        "class ReplayBuffer:\n",
        "    def __init__(self, device, capacity=100000):\n",
        "        self.device = device\n",
        "        self.buffer = collections.deque(maxlen=capacity)\n",
        "\n",
        "    def push(self, state, action, reward, next_state, done):\n",
        "        self.buffer.append((state, action, reward, next_state, done))\n",
        "\n",
        "    def sample(self, batch_size):\n",
        "        batch = random.sample(self.buffer, batch_size)\n",
        "        states, actions, rewards, next_states, dones = zip(*batch)\n",
        "        return (\n",
        "            torch.tensor(np.array(states), dtype=torch.float).to(self.device),\n",
        "            torch.tensor(np.array(actions), dtype=torch.long).to(self.device),\n",
        "            torch.tensor(np.array(rewards), dtype=torch.float).to(self.device),\n",
        "            torch.tensor(np.array(next_states), dtype=torch.float).to(self.device),\n",
        "            torch.tensor(np.array(dones), dtype=torch.float).to(self.device),\n",
        "        )\n",
        "\n",
        "    def __len__(self):\n",
        "        return len(self.buffer)"
      ]
    },
    {
      "cell_type": "markdown",
      "metadata": {
        "id": "e86Uc0K4JQ9O"
      },
      "source": [
        "# Define DQN Agent"
      ]
    },
    {
      "cell_type": "code",
      "execution_count": 6,
      "metadata": {
        "id": "8vImBZtWJcJM"
      },
      "outputs": [],
      "source": [
        "class DQNAgent:\n",
        "    def __init__(self, device, action_dim):\n",
        "        self.device = device\n",
        "        self.q_network = DQN(action_dim).to(self.device)\n",
        "        self.target_network = DQN(action_dim).to(self.device)\n",
        "        self.target_network.load_state_dict(self.q_network.state_dict())\n",
        "        self.target_network.eval()\n",
        "\n",
        "        self.optimizer = optim.Adam(self.q_network.parameters(), lr=0.0001)\n",
        "        self.replay_buffer = ReplayBuffer(self.device)\n",
        "        self.gamma = 0.99\n",
        "        self.epsilon = 1.0\n",
        "        self.epsilon_decay = 0.995\n",
        "        self.epsilon_min = 0.05\n",
        "        self.batch_size = 64\n",
        "        self.start_training = 10000\n",
        "        self.train_every = 4\n",
        "        self.update_target_every = 1000\n",
        "        self.step_count = 0\n",
        "\n",
        "    def select_action(self, state):\n",
        "        \"\"\"Epsilon-Greedy Policy\"\"\"\n",
        "        if random.random() < self.epsilon:\n",
        "            return random.randint(0, action_dim - 1)\n",
        "        else:\n",
        "            state = torch.tensor(state, dtype=torch.float).unsqueeze(0).to(self.device)\n",
        "            q_values = self.q_network(state)\n",
        "            return torch.argmax(q_values).item()\n",
        "\n",
        "    def train(self):\n",
        "        self.step_count += 1\n",
        "\n",
        "        if self.step_count < self.start_training:\n",
        "            return\n",
        "\n",
        "        if self.step_count % self.train_every == 0:\n",
        "            states, actions, rewards, next_states, dones = self.replay_buffer.sample(self.batch_size)\n",
        "\n",
        "            q_values = self.q_network(states).gather(1, actions.unsqueeze(1)).squeeze(1)\n",
        "            with torch.no_grad():\n",
        "                next_q_values = self.target_network(next_states).max(1)[0]\n",
        "                target_q_values = rewards + self.gamma * next_q_values * (1 - dones)\n",
        "\n",
        "            loss = nn.MSELoss()(q_values, target_q_values)\n",
        "\n",
        "            self.optimizer.zero_grad()\n",
        "            loss.backward()\n",
        "            self.optimizer.step()\n",
        "\n",
        "        if self.step_count % self.update_target_every == 0:\n",
        "            self.target_network.load_state_dict(self.q_network.state_dict())\n",
        "\n",
        "        self.epsilon = max(self.epsilon_min, self.epsilon * self.epsilon_decay)\n",
        "\n",
        "    def save_model(self, filepath):\n",
        "        \"\"\"Save the trained Q-network to a file.\"\"\"\n",
        "        torch.save(self.q_network.state_dict(), filepath)\n",
        "        print(f\"Model saved to {filepath}\")"
      ]
    },
    {
      "cell_type": "markdown",
      "source": [
        "# Preprocess Data"
      ],
      "metadata": {
        "id": "It7FYl7UuU0d"
      }
    },
    {
      "cell_type": "code",
      "source": [
        "def Preprocess_A(env):\n",
        "  env = gym.make(\"ALE/MsPacman-v5\")\n",
        "  env.reset()\n",
        "  env = gym.wrappers.ResizeObservation(env, (84, 84))\n",
        "  env = gym.wrappers.GrayscaleObservation(env)\n",
        "  env = gym.wrappers.FrameStackObservation(env, 4)\n",
        "  return env"
      ],
      "metadata": {
        "id": "RLXSqk0WuXqp"
      },
      "execution_count": 7,
      "outputs": []
    },
    {
      "cell_type": "code",
      "source": [
        "def Preprocess_B(env):\n",
        "    env = gym.make(\"ALE/MsPacman-v5\")\n",
        "    env = gym.wrappers.ResizeObservation(env, (84, 84))\n",
        "    env = gym.wrappers.GrayscaleObservation(env)\n",
        "    env = gym.wrappers.FrameStackObservation(env, 4)\n",
        "    env = ClipRewardEnv(env)  # Use the imported ClipRewardEnv\n",
        "    env = gym.wrappers.NormalizeObservation(env)\n",
        "    return env"
      ],
      "metadata": {
        "id": "yZaLxLshu_Gv"
      },
      "execution_count": 16,
      "outputs": []
    },
    {
      "cell_type": "markdown",
      "metadata": {
        "id": "PIoJYeurDA6A"
      },
      "source": [
        "# Train the Agent"
      ]
    },
    {
      "cell_type": "code",
      "execution_count": null,
      "metadata": {
        "id": "wB-8oxt4JjHP",
        "colab": {
          "base_uri": "https://localhost:8080/"
        },
        "outputId": "5a59c1bc-1f78-4c2c-a7ee-a4a22d46931c"
      },
      "outputs": [
        {
          "output_type": "stream",
          "name": "stdout",
          "text": [
            "Episode 0, Reward: 29.0, Epsilon: 1.0000\n",
            "Episode 1, Reward: 28.0, Epsilon: 1.0000\n",
            "Episode 2, Reward: 20.0, Epsilon: 1.0000\n",
            "Episode 3, Reward: 33.0, Epsilon: 1.0000\n",
            "Episode 4, Reward: 22.0, Epsilon: 1.0000\n",
            "Episode 5, Reward: 31.0, Epsilon: 1.0000\n",
            "Episode 6, Reward: 22.0, Epsilon: 1.0000\n",
            "Episode 7, Reward: 42.0, Epsilon: 1.0000\n",
            "Episode 8, Reward: 21.0, Epsilon: 1.0000\n",
            "Episode 9, Reward: 33.0, Epsilon: 1.0000\n",
            "Episode 10, Reward: 24.0, Epsilon: 1.0000\n",
            "Episode 11, Reward: 27.0, Epsilon: 1.0000\n",
            "Episode 12, Reward: 26.0, Epsilon: 1.0000\n",
            "Episode 13, Reward: 7.0, Epsilon: 1.0000\n",
            "Episode 14, Reward: 13.0, Epsilon: 1.0000\n",
            "Episode 15, Reward: 28.0, Epsilon: 1.0000\n",
            "Episode 16, Reward: 30.0, Epsilon: 1.0000\n",
            "Episode 17, Reward: 16.0, Epsilon: 1.0000\n",
            "Episode 18, Reward: 17.0, Epsilon: 1.0000\n",
            "Episode 19, Reward: 58.0, Epsilon: 0.7667\n",
            "Episode 20, Reward: 31.0, Epsilon: 0.1027\n",
            "Episode 21, Reward: 49.0, Epsilon: 0.0500\n",
            "Episode 22, Reward: 24.0, Epsilon: 0.0500\n"
          ]
        }
      ],
      "source": [
        "device = torch.device(\"cuda\" if torch.cuda.is_available() else \"cpu\")\n",
        "\n",
        "env = Preprocess_B(env)\n",
        "\n",
        "action_dim = env.action_space.n\n",
        "agent = DQNAgent(device, action_dim)\n",
        "\n",
        "num_episodes = 10000\n",
        "reward_history = []\n",
        "\n",
        "with open('training_log.txt', 'w') as f:\n",
        "    f.write(\"Episode\\tScore\\tEpsilon\\n\")\n",
        "    for episode in range(num_episodes):\n",
        "        obs, _ = env.reset()\n",
        "        total_reward = 0\n",
        "\n",
        "        while True:\n",
        "            action = agent.select_action(obs)\n",
        "            next_obs, reward, done, _, _ = env.step(action)\n",
        "            agent.replay_buffer.push(obs, action, reward, next_obs, done)\n",
        "            agent.train()\n",
        "\n",
        "            obs = next_obs\n",
        "            total_reward += reward\n",
        "            if done:\n",
        "                break\n",
        "\n",
        "        reward_history.append(total_reward)\n",
        "        print(f\"Episode {episode}, Reward: {total_reward}, Epsilon: {agent.epsilon:.4f}\")\n",
        "        f.write(f\"{episode}\\t{total_reward}\\t{agent.epsilon}\\n\")\n",
        "\n",
        "    env.close()"
      ]
    },
    {
      "cell_type": "code",
      "execution_count": null,
      "metadata": {
        "id": "Rc9riPMRLBGn"
      },
      "outputs": [],
      "source": [
        "agent.save_model('dqn_pacman_model.pth')"
      ]
    },
    {
      "cell_type": "markdown",
      "metadata": {
        "id": "uK98ET71PmSP"
      },
      "source": [
        "# Plot Training Results"
      ]
    },
    {
      "cell_type": "code",
      "execution_count": null,
      "metadata": {
        "id": "L0FYBVzZDWv7"
      },
      "outputs": [],
      "source": [
        "plt.plot(reward_history)\n",
        "plt.xlabel(\"Episode\")\n",
        "plt.ylabel(\"Reward\")\n",
        "plt.title(\"DQN Training on Atari Pacman\")\n",
        "plt.show()"
      ]
    }
  ],
  "metadata": {
    "accelerator": "GPU",
    "colab": {
      "gpuType": "T4",
      "provenance": []
    },
    "kernelspec": {
      "display_name": "venv",
      "language": "python",
      "name": "python3"
    },
    "language_info": {
      "codemirror_mode": {
        "name": "ipython",
        "version": 3
      },
      "file_extension": ".py",
      "mimetype": "text/x-python",
      "name": "python",
      "nbconvert_exporter": "python",
      "pygments_lexer": "ipython3",
      "version": "3.11.9"
    }
  },
  "nbformat": 4,
  "nbformat_minor": 0
}