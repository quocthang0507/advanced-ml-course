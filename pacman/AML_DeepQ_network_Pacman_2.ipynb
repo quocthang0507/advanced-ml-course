{
  "cells": [
    {
      "cell_type": "markdown",
      "metadata": {
        "id": "br4lf3EwHyoC"
      },
      "source": [
        "### 1. Install Dependencies"
      ]
    },
    {
      "cell_type": "code",
      "execution_count": null,
      "metadata": {
        "colab": {
          "base_uri": "https://localhost:8080/"
        },
        "collapsed": true,
        "id": "7GprE6gVHz0a",
        "outputId": "aeba7697-67fc-4711-e188-9c4a4e9a6c9c"
      },
      "outputs": [],
      "source": [
        "!pip install gymnasium\n",
        "!pip install ale-py\n",
        "!pip install torch\n",
        "!pip install numpy\n",
        "!pip install matplotlib\n"
      ]
    },
    {
      "cell_type": "markdown",
      "metadata": {
        "id": "1dkKrRif9Yc9"
      },
      "source": [
        "### 2. Import Required Libraries"
      ]
    },
    {
      "cell_type": "code",
      "execution_count": null,
      "metadata": {
        "id": "ZAa-mrOOF6LV"
      },
      "outputs": [],
      "source": [
        "import gymnasium as gym\n",
        "import ale_py\n",
        "import torch\n",
        "import torch.nn as nn\n",
        "import torch.optim as optim\n",
        "import numpy as np\n",
        "import random\n",
        "import collections\n",
        "import matplotlib.pyplot as plt"
      ]
    },
    {
      "cell_type": "markdown",
      "metadata": {
        "id": "tL8WD5cF9i6z"
      },
      "source": [
        "### 3.Test Atari Environment"
      ]
    },
    {
      "cell_type": "code",
      "execution_count": null,
      "metadata": {
        "colab": {
          "base_uri": "https://localhost:8080/",
          "height": 504
        },
        "id": "N7xCJOtF9xAx",
        "outputId": "5daf305b-1731-4c0b-9879-ac854b2b3088"
      },
      "outputs": [],
      "source": [
        "env = gym.make(\"ALE/Pacman-v5\")  # Load Atari Pacman\n",
        "obs, info = env.reset()  # Reset environment and get initial observation\n",
        "env.close()\n",
        "\n",
        "print(\"Observation Space:\", env.observation_space.shape)  # (210, 160, 3) -> RGB Image\n",
        "print(\"Action Space:\", env.action_space.n)  # 5 possible actions\n",
        "print(\"Action meaning:\", env.unwrapped.get_action_meanings()) # action meaning\n",
        "plt.imshow(obs) # show obs as a frame"
      ]
    },
    {
      "cell_type": "markdown",
      "metadata": {
        "id": "Q4k_l9iMB32-"
      },
      "source": [
        "Run a random policy"
      ]
    },
    {
      "cell_type": "code",
      "execution_count": null,
      "metadata": {
        "colab": {
          "base_uri": "https://localhost:8080/"
        },
        "id": "LUnBLPgIAcBx",
        "outputId": "44cb39ed-eef4-4629-b24f-154f4182c6c3"
      },
      "outputs": [],
      "source": [
        "env = gym.make(\"ALE/MsPacman-v5\", render_mode=\"rgb_array\")\n",
        "\n",
        "# create video recorder\n",
        "env = gym.wrappers.RecordVideo(\n",
        "    env,\n",
        "    video_folder=\"videos\", # define folder to save video\n",
        "    name_prefix=\"video-\",\n",
        ")\n",
        "\n",
        "obs, info = env.reset()\n",
        "for _ in range(10):\n",
        "    action = env.action_space.sample()  # Random action\n",
        "    next_obs, reward, done, _, _ = env.step(action)  # Take action\n",
        "    print(action, reward, done)\n",
        "    if done:\n",
        "        env.reset()\n",
        "env.close()"
      ]
    },
    {
      "cell_type": "markdown",
      "metadata": {
        "id": "BFeFUXMsGWKi"
      },
      "source": [
        "### 4. Preprocess Atari Frames\n",
        "\n",
        "Atari environments return RGB images. We need to:\n",
        "- Resize to 84x84\n",
        "- Convert them to grayscale\n",
        "- Stack 4 frames to capture motion\n",
        "\n"
      ]
    },
    {
      "cell_type": "code",
      "execution_count": null,
      "metadata": {
        "colab": {
          "base_uri": "https://localhost:8080/",
          "height": 434
        },
        "id": "iZjtAyvhGPWK",
        "outputId": "53805608-aa34-4caf-9c31-5d135c691303"
      },
      "outputs": [],
      "source": [
        "env = gym.make(\"ALE/MsPacman-v5\")\n",
        "env = gym.wrappers.ResizeObservation(env, (84, 84))\n",
        "env = gym.wrappers.GrayscaleObservation(env)\n",
        "env = gym.wrappers.FrameStackObservation(env, 4)\n",
        "obs, info = env.reset()\n",
        "for _ in range(10):\n",
        "    action = env.action_space.sample()  # Random action\n",
        "    obs, reward, done, _, _ = env.step(action)  # Take action\n",
        "env.close()\n",
        "\n",
        "# obs is as a stack of 4 frames\n",
        "fig, axes = plt.subplots(2, 2)\n",
        "axes[0, 0].imshow(obs[0])\n",
        "axes[0, 1].imshow(obs[1])\n",
        "axes[1, 0].imshow(obs[2])\n",
        "axes[1, 1].imshow(obs[3])\n",
        "plt.show()"
      ]
    },
    {
      "cell_type": "markdown",
      "metadata": {
        "id": "wQ8M0p3tHo1L"
      },
      "source": [
        "### 5. Define the Q-Network (CNN-based)\n",
        "\n",
        "Atari games involve image inputs, so we use a **Convolutional Neural Network (CNN)** instead of a fully connected network."
      ]
    },
    {
      "cell_type": "code",
      "execution_count": null,
      "metadata": {
        "id": "GDNF0RcGHoij"
      },
      "outputs": [],
      "source": [
        "class DQN(nn.Module):\n",
        "    def __init__(self, action_dim):\n",
        "        super(DQN, self).__init__()\n",
        "        self.conv1 = nn.Conv2d(4, 32, kernel_size=8, stride=4)\n",
        "        self.conv2 = nn.Conv2d(32, 64, kernel_size=4, stride=2)\n",
        "        self.conv3 = nn.Conv2d(64, 64, kernel_size=3, stride=1)\n",
        "\n",
        "        self.fc1 = nn.Linear(64 * 7 * 7, 512)\n",
        "        self.fc2 = nn.Linear(512, action_dim)\n",
        "\n",
        "    def forward(self, x):\n",
        "        x = torch.relu(self.conv1(x))\n",
        "        x = torch.relu(self.conv2(x))\n",
        "        x = torch.relu(self.conv3(x))\n",
        "        x = x.view(x.size(0), -1)  # Flatten\n",
        "        x = torch.relu(self.fc1(x))\n",
        "        return self.fc2(x)  # No activation (raw Q-values)"
      ]
    },
    {
      "cell_type": "markdown",
      "metadata": {
        "id": "VoetLK7HHoSZ"
      },
      "source": [
        "### 6. Experience Replay Buffer"
      ]
    },
    {
      "cell_type": "code",
      "execution_count": null,
      "metadata": {
        "id": "K30ATHQCJHUj"
      },
      "outputs": [],
      "source": [
        "class ReplayBuffer:\n",
        "    def __init__(self, device, capacity=100000):\n",
        "        self.device = device\n",
        "        self.buffer = collections.deque(maxlen=capacity)\n",
        "\n",
        "    def push(self, state, action, reward, next_state, done):\n",
        "        self.buffer.append((state, action, reward, next_state, done))\n",
        "\n",
        "    def sample(self, batch_size):\n",
        "        batch = random.sample(self.buffer, batch_size)\n",
        "        states, actions, rewards, next_states, dones = zip(*batch)\n",
        "        return (\n",
        "            torch.tensor(np.array(states), dtype=torch.float).to(self.device),\n",
        "            torch.tensor(np.array(actions), dtype=torch.long).to(self.device),\n",
        "            torch.tensor(np.array(rewards), dtype=torch.float).to(self.device),\n",
        "            torch.tensor(np.array(next_states), dtype=torch.float).to(self.device),\n",
        "            torch.tensor(np.array(dones), dtype=torch.float).to(self.device),\n",
        "        )\n",
        "\n",
        "    def __len__(self):\n",
        "        return len(self.buffer)"
      ]
    },
    {
      "cell_type": "markdown",
      "metadata": {
        "id": "e86Uc0K4JQ9O"
      },
      "source": [
        "### 7. Define DQN Agent"
      ]
    },
    {
      "cell_type": "code",
      "execution_count": null,
      "metadata": {
        "id": "8vImBZtWJcJM"
      },
      "outputs": [],
      "source": [
        "class DQNAgent:\n",
        "    def __init__(self, device, action_dim):\n",
        "        self.device = device\n",
        "        self.q_network = DQN(action_dim).to(self.device)\n",
        "        self.target_network = DQN(action_dim).to(self.device)\n",
        "        self.target_network.load_state_dict(self.q_network.state_dict())\n",
        "        self.target_network.eval()\n",
        "\n",
        "        self.optimizer = optim.Adam(self.q_network.parameters(), lr=0.0001)\n",
        "        self.replay_buffer = ReplayBuffer(self.device)\n",
        "        self.gamma = 0.99\n",
        "        self.epsilon = 1.0\n",
        "        self.epsilon_decay = 0.995\n",
        "        self.epsilon_min = 0.05\n",
        "        self.batch_size = 64\n",
        "        self.start_training = 10000\n",
        "        self.train_every = 4\n",
        "        self.update_target_every = 1000\n",
        "        self.step_count = 0\n",
        "\n",
        "    def select_action(self, state):\n",
        "        \"\"\"Epsilon-Greedy Policy\"\"\"\n",
        "        if random.random() < self.epsilon:\n",
        "            return random.randint(0, action_dim - 1)\n",
        "        else:\n",
        "            state = torch.tensor(state, dtype=torch.float).unsqueeze(0).to(self.device)\n",
        "            q_values = self.q_network(state)\n",
        "            return torch.argmax(q_values).item()\n",
        "\n",
        "    def train(self):\n",
        "\n",
        "        self.step_count += 1\n",
        "\n",
        "        if self.step_count < self.start_training:\n",
        "            return\n",
        "\n",
        "        if self.step_count % self.train_every == 0:\n",
        "            states, actions, rewards, next_states, dones = self.replay_buffer.sample(self.batch_size)\n",
        "\n",
        "            q_values = self.q_network(states).gather(1, actions.unsqueeze(1)).squeeze(1)\n",
        "            with torch.no_grad():\n",
        "                next_q_values = self.target_network(next_states).max(1)[0]\n",
        "                target_q_values = rewards + self.gamma * next_q_values * (1 - dones)\n",
        "\n",
        "            loss = nn.MSELoss()(q_values, target_q_values)\n",
        "\n",
        "            self.optimizer.zero_grad()\n",
        "            loss.backward()\n",
        "            self.optimizer.step()\n",
        "\n",
        "        if self.step_count % self.update_target_every == 0:\n",
        "            self.target_network.load_state_dict(self.q_network.state_dict())\n",
        "\n",
        "        self.epsilon = max(self.epsilon_min, self.epsilon * self.epsilon_decay)\n"
      ]
    },
    {
      "cell_type": "markdown",
      "metadata": {
        "id": "PIoJYeurDA6A"
      },
      "source": [
        "### 8. Train the Agent"
      ]
    },
    {
      "cell_type": "code",
      "execution_count": null,
      "metadata": {
        "colab": {
          "base_uri": "https://localhost:8080/"
        },
        "id": "wB-8oxt4JjHP",
        "outputId": "135b7881-7975-4f21-8d53-5fe1c030d79a"
      },
      "outputs": [],
      "source": [
        "device = torch.device(\"cuda\" if torch.cuda.is_available() else \"cpu\")\n",
        "\n",
        "env = gym.make(\"ALE/MsPacman-v5\")\n",
        "env = gym.wrappers.ResizeObservation(env, (84, 84))\n",
        "env = gym.wrappers.GrayscaleObservation(env)\n",
        "env = gym.wrappers.FrameStackObservation(env, 4)\n",
        "\n",
        "action_dim = env.action_space.n\n",
        "agent = DQNAgent(device, action_dim)\n",
        "\n",
        "num_episodes = 1000 #1000\n",
        "reward_history = []\n",
        "\n",
        "for episode in range(num_episodes):\n",
        "    obs, _ = env.reset()\n",
        "    total_reward = 0\n",
        "\n",
        "    while True:\n",
        "        action = agent.select_action(obs)\n",
        "        next_obs, reward, done, _, _ = env.step(action)\n",
        "        agent.replay_buffer.push(obs, action, reward, next_obs, done)\n",
        "        agent.train()\n",
        "\n",
        "        obs = next_obs\n",
        "        total_reward += reward\n",
        "        if done:\n",
        "            break\n",
        "\n",
        "    reward_history.append(total_reward)\n",
        "    print(f\"Episode {episode}, Reward: {total_reward}, Epsilon: {agent.epsilon:.2f}\")\n",
        "\n",
        "env.close()"
      ]
    },
    {
      "cell_type": "markdown",
      "metadata": {
        "id": "uK98ET71PmSP"
      },
      "source": [
        "### 9. Plot Training Results"
      ]
    },
    {
      "cell_type": "code",
      "execution_count": null,
      "metadata": {
        "id": "L0FYBVzZDWv7"
      },
      "outputs": [],
      "source": [
        "plt.plot(reward_history)\n",
        "plt.xlabel(\"Episode\")\n",
        "plt.ylabel(\"Reward\")\n",
        "plt.title(\"DQN Training on Atari Pacman\")\n",
        "plt.show()"
      ]
    },
    {
      "cell_type": "markdown",
      "metadata": {
        "id": "nzQ41aVDDwRF"
      },
      "source": [
        "### 10. Evaluate the DQA agent"
      ]
    },
    {
      "cell_type": "code",
      "execution_count": null,
      "metadata": {
        "colab": {
          "base_uri": "https://localhost:8080/"
        },
        "id": "tRyFUcdcDtlg",
        "outputId": "cbd9ece7-aa8c-48bd-9306-0836e538b0f8"
      },
      "outputs": [],
      "source": [
        "device = torch.device(\"cuda\" if torch.cuda.is_available() else \"cpu\")\n",
        "\n",
        "env = gym.make(\"ALE/MsPacman-v5\", render_mode=\"rgb_array\")\n",
        "\n",
        "# if you want to see the recored videos\n",
        "env = gym.wrappers.RecordVideo(\n",
        "    env,\n",
        "    video_folder=\"videos\", # define folder to save video\n",
        "    name_prefix=\"video-\",\n",
        ")\n",
        "\n",
        "env = gym.wrappers.ResizeObservation(env, (84, 84))\n",
        "env = gym.wrappers.GrayscaleObservation(env)\n",
        "env = gym.wrappers.FrameStackObservation(env, 4)\n",
        "\n",
        "num_episodes = 10\n",
        "reward_history = []\n",
        "\n",
        "for episode in range(num_episodes):\n",
        "    obs, _ = env.reset()\n",
        "    total_reward = 0\n",
        "\n",
        "    while True:\n",
        "        action = agent.select_action(obs)\n",
        "        next_obs, reward, done, _, _ = env.step(action)\n",
        "        obs = next_obs\n",
        "        total_reward += reward\n",
        "        if done:\n",
        "            break\n",
        "\n",
        "    reward_history.append(total_reward)\n",
        "    print(f\"Episode {episode}, Reward: {total_reward}, Epsilon: {agent.epsilon:.2f}\")\n",
        "\n",
        "env.close()\n",
        "print(f\"Average Reward: {np.mean(reward_history):2f}\")\n"
      ]
    }
  ],
  "metadata": {
    "accelerator": "GPU",
    "colab": {
      "gpuType": "T4",
      "provenance": []
    },
    "kernelspec": {
      "display_name": ".venv",
      "language": "python",
      "name": "python3"
    },
    "language_info": {
      "codemirror_mode": {
        "name": "ipython",
        "version": 3
      },
      "file_extension": ".py",
      "mimetype": "text/x-python",
      "name": "python",
      "nbconvert_exporter": "python",
      "pygments_lexer": "ipython3",
      "version": "3.11.9"
    }
  },
  "nbformat": 4,
  "nbformat_minor": 0
}
