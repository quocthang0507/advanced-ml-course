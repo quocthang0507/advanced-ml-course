{
  "nbformat": 4,
  "nbformat_minor": 0,
  "metadata": {
    "colab": {
      "provenance": [],
      "gpuType": "T4"
    },
    "kernelspec": {
      "name": "python3",
      "display_name": "Python 3"
    },
    "language_info": {
      "name": "python"
    },
    "accelerator": "GPU"
  },
  "cells": [
    {
      "cell_type": "markdown",
      "source": [
        "### 1. Install Dependencies"
      ],
      "metadata": {
        "id": "br4lf3EwHyoC"
      }
    },
    {
      "cell_type": "code",
      "source": [
        "!pip install gymnasium\n",
        "!pip install ale-py\n",
        "!pip install torch\n",
        "!pip install numpy\n",
        "!pip install matplotlib\n"
      ],
      "metadata": {
        "id": "7GprE6gVHz0a",
        "colab": {
          "base_uri": "https://localhost:8080/"
        },
        "collapsed": true,
        "outputId": "aeba7697-67fc-4711-e188-9c4a4e9a6c9c"
      },
      "execution_count": 1,
      "outputs": [
        {
          "output_type": "stream",
          "name": "stdout",
          "text": [
            "Requirement already satisfied: gymnasium in /usr/local/lib/python3.11/dist-packages (1.1.1)\n",
            "Requirement already satisfied: numpy>=1.21.0 in /usr/local/lib/python3.11/dist-packages (from gymnasium) (1.26.4)\n",
            "Requirement already satisfied: cloudpickle>=1.2.0 in /usr/local/lib/python3.11/dist-packages (from gymnasium) (3.1.1)\n",
            "Requirement already satisfied: typing-extensions>=4.3.0 in /usr/local/lib/python3.11/dist-packages (from gymnasium) (4.12.2)\n",
            "Requirement already satisfied: farama-notifications>=0.0.1 in /usr/local/lib/python3.11/dist-packages (from gymnasium) (0.0.4)\n",
            "Requirement already satisfied: ale-py in /usr/local/lib/python3.11/dist-packages (0.10.2)\n",
            "Requirement already satisfied: numpy>1.20 in /usr/local/lib/python3.11/dist-packages (from ale-py) (1.26.4)\n",
            "Requirement already satisfied: torch in /usr/local/lib/python3.11/dist-packages (2.6.0+cu124)\n",
            "Requirement already satisfied: filelock in /usr/local/lib/python3.11/dist-packages (from torch) (3.17.0)\n",
            "Requirement already satisfied: typing-extensions>=4.10.0 in /usr/local/lib/python3.11/dist-packages (from torch) (4.12.2)\n",
            "Requirement already satisfied: networkx in /usr/local/lib/python3.11/dist-packages (from torch) (3.4.2)\n",
            "Requirement already satisfied: jinja2 in /usr/local/lib/python3.11/dist-packages (from torch) (3.1.6)\n",
            "Requirement already satisfied: fsspec in /usr/local/lib/python3.11/dist-packages (from torch) (2024.10.0)\n",
            "Collecting nvidia-cuda-nvrtc-cu12==12.4.127 (from torch)\n",
            "  Downloading nvidia_cuda_nvrtc_cu12-12.4.127-py3-none-manylinux2014_x86_64.whl.metadata (1.5 kB)\n",
            "Collecting nvidia-cuda-runtime-cu12==12.4.127 (from torch)\n",
            "  Downloading nvidia_cuda_runtime_cu12-12.4.127-py3-none-manylinux2014_x86_64.whl.metadata (1.5 kB)\n",
            "Collecting nvidia-cuda-cupti-cu12==12.4.127 (from torch)\n",
            "  Downloading nvidia_cuda_cupti_cu12-12.4.127-py3-none-manylinux2014_x86_64.whl.metadata (1.6 kB)\n",
            "Collecting nvidia-cudnn-cu12==9.1.0.70 (from torch)\n",
            "  Downloading nvidia_cudnn_cu12-9.1.0.70-py3-none-manylinux2014_x86_64.whl.metadata (1.6 kB)\n",
            "Collecting nvidia-cublas-cu12==12.4.5.8 (from torch)\n",
            "  Downloading nvidia_cublas_cu12-12.4.5.8-py3-none-manylinux2014_x86_64.whl.metadata (1.5 kB)\n",
            "Collecting nvidia-cufft-cu12==11.2.1.3 (from torch)\n",
            "  Downloading nvidia_cufft_cu12-11.2.1.3-py3-none-manylinux2014_x86_64.whl.metadata (1.5 kB)\n",
            "Collecting nvidia-curand-cu12==10.3.5.147 (from torch)\n",
            "  Downloading nvidia_curand_cu12-10.3.5.147-py3-none-manylinux2014_x86_64.whl.metadata (1.5 kB)\n",
            "Collecting nvidia-cusolver-cu12==11.6.1.9 (from torch)\n",
            "  Downloading nvidia_cusolver_cu12-11.6.1.9-py3-none-manylinux2014_x86_64.whl.metadata (1.6 kB)\n",
            "Collecting nvidia-cusparse-cu12==12.3.1.170 (from torch)\n",
            "  Downloading nvidia_cusparse_cu12-12.3.1.170-py3-none-manylinux2014_x86_64.whl.metadata (1.6 kB)\n",
            "Requirement already satisfied: nvidia-cusparselt-cu12==0.6.2 in /usr/local/lib/python3.11/dist-packages (from torch) (0.6.2)\n",
            "Requirement already satisfied: nvidia-nccl-cu12==2.21.5 in /usr/local/lib/python3.11/dist-packages (from torch) (2.21.5)\n",
            "Requirement already satisfied: nvidia-nvtx-cu12==12.4.127 in /usr/local/lib/python3.11/dist-packages (from torch) (12.4.127)\n",
            "Collecting nvidia-nvjitlink-cu12==12.4.127 (from torch)\n",
            "  Downloading nvidia_nvjitlink_cu12-12.4.127-py3-none-manylinux2014_x86_64.whl.metadata (1.5 kB)\n",
            "Requirement already satisfied: triton==3.2.0 in /usr/local/lib/python3.11/dist-packages (from torch) (3.2.0)\n",
            "Requirement already satisfied: sympy==1.13.1 in /usr/local/lib/python3.11/dist-packages (from torch) (1.13.1)\n",
            "Requirement already satisfied: mpmath<1.4,>=1.1.0 in /usr/local/lib/python3.11/dist-packages (from sympy==1.13.1->torch) (1.3.0)\n",
            "Requirement already satisfied: MarkupSafe>=2.0 in /usr/local/lib/python3.11/dist-packages (from jinja2->torch) (3.0.2)\n",
            "Downloading nvidia_cublas_cu12-12.4.5.8-py3-none-manylinux2014_x86_64.whl (363.4 MB)\n",
            "\u001b[2K   \u001b[90m━━━━━━━━━━━━━━━━━━━━━━━━━━━━━━━━━━━━━━━━\u001b[0m \u001b[32m363.4/363.4 MB\u001b[0m \u001b[31m4.6 MB/s\u001b[0m eta \u001b[36m0:00:00\u001b[0m\n",
            "\u001b[?25hDownloading nvidia_cuda_cupti_cu12-12.4.127-py3-none-manylinux2014_x86_64.whl (13.8 MB)\n",
            "\u001b[2K   \u001b[90m━━━━━━━━━━━━━━━━━━━━━━━━━━━━━━━━━━━━━━━━\u001b[0m \u001b[32m13.8/13.8 MB\u001b[0m \u001b[31m111.5 MB/s\u001b[0m eta \u001b[36m0:00:00\u001b[0m\n",
            "\u001b[?25hDownloading nvidia_cuda_nvrtc_cu12-12.4.127-py3-none-manylinux2014_x86_64.whl (24.6 MB)\n",
            "\u001b[2K   \u001b[90m━━━━━━━━━━━━━━━━━━━━━━━━━━━━━━━━━━━━━━━━\u001b[0m \u001b[32m24.6/24.6 MB\u001b[0m \u001b[31m73.5 MB/s\u001b[0m eta \u001b[36m0:00:00\u001b[0m\n",
            "\u001b[?25hDownloading nvidia_cuda_runtime_cu12-12.4.127-py3-none-manylinux2014_x86_64.whl (883 kB)\n",
            "\u001b[2K   \u001b[90m━━━━━━━━━━━━━━━━━━━━━━━━━━━━━━━━━━━━━━━━\u001b[0m \u001b[32m883.7/883.7 kB\u001b[0m \u001b[31m61.4 MB/s\u001b[0m eta \u001b[36m0:00:00\u001b[0m\n",
            "\u001b[?25hDownloading nvidia_cudnn_cu12-9.1.0.70-py3-none-manylinux2014_x86_64.whl (664.8 MB)\n",
            "\u001b[2K   \u001b[90m━━━━━━━━━━━━━━━━━━━━━━━━━━━━━━━━━━━━━━━━\u001b[0m \u001b[32m664.8/664.8 MB\u001b[0m \u001b[31m784.9 kB/s\u001b[0m eta \u001b[36m0:00:00\u001b[0m\n",
            "\u001b[?25hDownloading nvidia_cufft_cu12-11.2.1.3-py3-none-manylinux2014_x86_64.whl (211.5 MB)\n",
            "\u001b[2K   \u001b[90m━━━━━━━━━━━━━━━━━━━━━━━━━━━━━━━━━━━━━━━━\u001b[0m \u001b[32m211.5/211.5 MB\u001b[0m \u001b[31m6.5 MB/s\u001b[0m eta \u001b[36m0:00:00\u001b[0m\n",
            "\u001b[?25hDownloading nvidia_curand_cu12-10.3.5.147-py3-none-manylinux2014_x86_64.whl (56.3 MB)\n",
            "\u001b[2K   \u001b[90m━━━━━━━━━━━━━━━━━━━━━━━━━━━━━━━━━━━━━━━━\u001b[0m \u001b[32m56.3/56.3 MB\u001b[0m \u001b[31m12.1 MB/s\u001b[0m eta \u001b[36m0:00:00\u001b[0m\n",
            "\u001b[?25hDownloading nvidia_cusolver_cu12-11.6.1.9-py3-none-manylinux2014_x86_64.whl (127.9 MB)\n",
            "\u001b[2K   \u001b[90m━━━━━━━━━━━━━━━━━━━━━━━━━━━━━━━━━━━━━━━━\u001b[0m \u001b[32m127.9/127.9 MB\u001b[0m \u001b[31m7.3 MB/s\u001b[0m eta \u001b[36m0:00:00\u001b[0m\n",
            "\u001b[?25hDownloading nvidia_cusparse_cu12-12.3.1.170-py3-none-manylinux2014_x86_64.whl (207.5 MB)\n",
            "\u001b[2K   \u001b[90m━━━━━━━━━━━━━━━━━━━━━━━━━━━━━━━━━━━━━━━━\u001b[0m \u001b[32m207.5/207.5 MB\u001b[0m \u001b[31m5.7 MB/s\u001b[0m eta \u001b[36m0:00:00\u001b[0m\n",
            "\u001b[?25hDownloading nvidia_nvjitlink_cu12-12.4.127-py3-none-manylinux2014_x86_64.whl (21.1 MB)\n",
            "\u001b[2K   \u001b[90m━━━━━━━━━━━━━━━━━━━━━━━━━━━━━━━━━━━━━━━━\u001b[0m \u001b[32m21.1/21.1 MB\u001b[0m \u001b[31m99.7 MB/s\u001b[0m eta \u001b[36m0:00:00\u001b[0m\n",
            "\u001b[?25hInstalling collected packages: nvidia-nvjitlink-cu12, nvidia-curand-cu12, nvidia-cufft-cu12, nvidia-cuda-runtime-cu12, nvidia-cuda-nvrtc-cu12, nvidia-cuda-cupti-cu12, nvidia-cublas-cu12, nvidia-cusparse-cu12, nvidia-cudnn-cu12, nvidia-cusolver-cu12\n",
            "  Attempting uninstall: nvidia-nvjitlink-cu12\n",
            "    Found existing installation: nvidia-nvjitlink-cu12 12.5.82\n",
            "    Uninstalling nvidia-nvjitlink-cu12-12.5.82:\n",
            "      Successfully uninstalled nvidia-nvjitlink-cu12-12.5.82\n",
            "  Attempting uninstall: nvidia-curand-cu12\n",
            "    Found existing installation: nvidia-curand-cu12 10.3.6.82\n",
            "    Uninstalling nvidia-curand-cu12-10.3.6.82:\n",
            "      Successfully uninstalled nvidia-curand-cu12-10.3.6.82\n",
            "  Attempting uninstall: nvidia-cufft-cu12\n",
            "    Found existing installation: nvidia-cufft-cu12 11.2.3.61\n",
            "    Uninstalling nvidia-cufft-cu12-11.2.3.61:\n",
            "      Successfully uninstalled nvidia-cufft-cu12-11.2.3.61\n",
            "  Attempting uninstall: nvidia-cuda-runtime-cu12\n",
            "    Found existing installation: nvidia-cuda-runtime-cu12 12.5.82\n",
            "    Uninstalling nvidia-cuda-runtime-cu12-12.5.82:\n",
            "      Successfully uninstalled nvidia-cuda-runtime-cu12-12.5.82\n",
            "  Attempting uninstall: nvidia-cuda-nvrtc-cu12\n",
            "    Found existing installation: nvidia-cuda-nvrtc-cu12 12.5.82\n",
            "    Uninstalling nvidia-cuda-nvrtc-cu12-12.5.82:\n",
            "      Successfully uninstalled nvidia-cuda-nvrtc-cu12-12.5.82\n",
            "  Attempting uninstall: nvidia-cuda-cupti-cu12\n",
            "    Found existing installation: nvidia-cuda-cupti-cu12 12.5.82\n",
            "    Uninstalling nvidia-cuda-cupti-cu12-12.5.82:\n",
            "      Successfully uninstalled nvidia-cuda-cupti-cu12-12.5.82\n",
            "  Attempting uninstall: nvidia-cublas-cu12\n",
            "    Found existing installation: nvidia-cublas-cu12 12.5.3.2\n",
            "    Uninstalling nvidia-cublas-cu12-12.5.3.2:\n",
            "      Successfully uninstalled nvidia-cublas-cu12-12.5.3.2\n",
            "  Attempting uninstall: nvidia-cusparse-cu12\n",
            "    Found existing installation: nvidia-cusparse-cu12 12.5.1.3\n",
            "    Uninstalling nvidia-cusparse-cu12-12.5.1.3:\n",
            "      Successfully uninstalled nvidia-cusparse-cu12-12.5.1.3\n",
            "  Attempting uninstall: nvidia-cudnn-cu12\n",
            "    Found existing installation: nvidia-cudnn-cu12 9.3.0.75\n",
            "    Uninstalling nvidia-cudnn-cu12-9.3.0.75:\n",
            "      Successfully uninstalled nvidia-cudnn-cu12-9.3.0.75\n",
            "  Attempting uninstall: nvidia-cusolver-cu12\n",
            "    Found existing installation: nvidia-cusolver-cu12 11.6.3.83\n",
            "    Uninstalling nvidia-cusolver-cu12-11.6.3.83:\n",
            "      Successfully uninstalled nvidia-cusolver-cu12-11.6.3.83\n",
            "Successfully installed nvidia-cublas-cu12-12.4.5.8 nvidia-cuda-cupti-cu12-12.4.127 nvidia-cuda-nvrtc-cu12-12.4.127 nvidia-cuda-runtime-cu12-12.4.127 nvidia-cudnn-cu12-9.1.0.70 nvidia-cufft-cu12-11.2.1.3 nvidia-curand-cu12-10.3.5.147 nvidia-cusolver-cu12-11.6.1.9 nvidia-cusparse-cu12-12.3.1.170 nvidia-nvjitlink-cu12-12.4.127\n",
            "Requirement already satisfied: numpy in /usr/local/lib/python3.11/dist-packages (1.26.4)\n",
            "Requirement already satisfied: matplotlib in /usr/local/lib/python3.11/dist-packages (3.10.0)\n",
            "Requirement already satisfied: contourpy>=1.0.1 in /usr/local/lib/python3.11/dist-packages (from matplotlib) (1.3.1)\n",
            "Requirement already satisfied: cycler>=0.10 in /usr/local/lib/python3.11/dist-packages (from matplotlib) (0.12.1)\n",
            "Requirement already satisfied: fonttools>=4.22.0 in /usr/local/lib/python3.11/dist-packages (from matplotlib) (4.56.0)\n",
            "Requirement already satisfied: kiwisolver>=1.3.1 in /usr/local/lib/python3.11/dist-packages (from matplotlib) (1.4.8)\n",
            "Requirement already satisfied: numpy>=1.23 in /usr/local/lib/python3.11/dist-packages (from matplotlib) (1.26.4)\n",
            "Requirement already satisfied: packaging>=20.0 in /usr/local/lib/python3.11/dist-packages (from matplotlib) (24.2)\n",
            "Requirement already satisfied: pillow>=8 in /usr/local/lib/python3.11/dist-packages (from matplotlib) (11.1.0)\n",
            "Requirement already satisfied: pyparsing>=2.3.1 in /usr/local/lib/python3.11/dist-packages (from matplotlib) (3.2.1)\n",
            "Requirement already satisfied: python-dateutil>=2.7 in /usr/local/lib/python3.11/dist-packages (from matplotlib) (2.8.2)\n",
            "Requirement already satisfied: six>=1.5 in /usr/local/lib/python3.11/dist-packages (from python-dateutil>=2.7->matplotlib) (1.17.0)\n"
          ]
        }
      ]
    },
    {
      "cell_type": "markdown",
      "source": [
        "### 2. Import Required Libraries"
      ],
      "metadata": {
        "id": "1dkKrRif9Yc9"
      }
    },
    {
      "cell_type": "code",
      "execution_count": 2,
      "metadata": {
        "id": "ZAa-mrOOF6LV"
      },
      "outputs": [],
      "source": [
        "import gymnasium as gym\n",
        "import ale_py\n",
        "import torch\n",
        "import torch.nn as nn\n",
        "import torch.optim as optim\n",
        "import numpy as np\n",
        "import random\n",
        "import collections\n",
        "import matplotlib.pyplot as plt"
      ]
    },
    {
      "cell_type": "markdown",
      "source": [
        "### 3.Test Atari Environment"
      ],
      "metadata": {
        "id": "tL8WD5cF9i6z"
      }
    },
    {
      "cell_type": "code",
      "source": [
        "env = gym.make(\"ALE/Pacman-v5\")  # Load Atari Pacman\n",
        "obs, info = env.reset()  # Reset environment and get initial observation\n",
        "env.close()\n",
        "\n",
        "print(\"Observation Space:\", env.observation_space.shape)  # (210, 160, 3) -> RGB Image\n",
        "print(\"Action Space:\", env.action_space.n)  # 5 possible actions\n",
        "print(\"Action meaning:\", env.unwrapped.get_action_meanings()) # action meaning\n",
        "plt.imshow(obs) # show obs as a frame"
      ],
      "metadata": {
        "colab": {
          "base_uri": "https://localhost:8080/",
          "height": 504
        },
        "id": "N7xCJOtF9xAx",
        "outputId": "5daf305b-1731-4c0b-9879-ac854b2b3088"
      },
      "execution_count": 3,
      "outputs": [
        {
          "output_type": "stream",
          "name": "stdout",
          "text": [
            "Observation Space: (250, 160, 3)\n",
            "Action Space: 5\n",
            "Action meaning: ['NOOP', 'UP', 'RIGHT', 'LEFT', 'DOWN']\n"
          ]
        },
        {
          "output_type": "execute_result",
          "data": {
            "text/plain": [
              "<matplotlib.image.AxesImage at 0x7d41c40ab990>"
            ]
          },
          "metadata": {},
          "execution_count": 3
        },
        {
          "output_type": "display_data",
          "data": {
            "text/plain": [
              "<Figure size 640x480 with 1 Axes>"
            ],
            "image/png": "[encoded data removed]"
          },
          "metadata": {}
        }
      ]
    },
    {
      "cell_type": "markdown",
      "source": [
        "Run a random policy"
      ],
      "metadata": {
        "id": "Q4k_l9iMB32-"
      }
    },
    {
      "cell_type": "code",
      "source": [
        "env = gym.make(\"ALE/MsPacman-v5\", render_mode=\"rgb_array\")\n",
        "\n",
        "# create video recorder\n",
        "env = gym.wrappers.RecordVideo(\n",
        "    env,\n",
        "    video_folder=\"videos\", # define folder to save video\n",
        "    name_prefix=\"video-\",\n",
        ")\n",
        "\n",
        "obs, info = env.reset()\n",
        "for _ in range(10):\n",
        "    action = env.action_space.sample()  # Random action\n",
        "    next_obs, reward, done, _, _ = env.step(action)  # Take action\n",
        "    print(action, reward, done)\n",
        "    if done:\n",
        "        env.reset()\n",
        "env.close()"
      ],
      "metadata": {
        "colab": {
          "base_uri": "https://localhost:8080/"
        },
        "id": "LUnBLPgIAcBx",
        "outputId": "44cb39ed-eef4-4629-b24f-154f4182c6c3"
      },
      "execution_count": 4,
      "outputs": [
        {
          "output_type": "stream",
          "name": "stdout",
          "text": [
            "6 0.0 False\n",
            "0 0.0 False\n",
            "4 0.0 False\n",
            "2 0.0 False\n",
            "7 0.0 False\n",
            "5 0.0 False\n",
            "5 0.0 False\n",
            "2 0.0 False\n",
            "3 0.0 False\n",
            "6 0.0 False\n"
          ]
        }
      ]
    },
    {
      "cell_type": "markdown",
      "source": [
        "### 4. Preprocess Atari Frames\n",
        "\n",
        "Atari environments return RGB images. We need to:\n",
        "- Resize to 84x84\n",
        "- Convert them to grayscale\n",
        "- Stack 4 frames to capture motion\n",
        "\n"
      ],
      "metadata": {
        "id": "BFeFUXMsGWKi"
      }
    },
    {
      "cell_type": "code",
      "source": [
        "env = gym.make(\"ALE/MsPacman-v5\")\n",
        "env = gym.wrappers.ResizeObservation(env, (84, 84))\n",
        "env = gym.wrappers.GrayscaleObservation(env)\n",
        "env = gym.wrappers.FrameStackObservation(env, 4)\n",
        "obs, info = env.reset()\n",
        "for _ in range(10):\n",
        "    action = env.action_space.sample()  # Random action\n",
        "    obs, reward, done, _, _ = env.step(action)  # Take action\n",
        "env.close()\n",
        "\n",
        "# obs is as a stack of 4 frames\n",
        "fig, axes = plt.subplots(2, 2)\n",
        "axes[0, 0].imshow(obs[0])\n",
        "axes[0, 1].imshow(obs[1])\n",
        "axes[1, 0].imshow(obs[2])\n",
        "axes[1, 1].imshow(obs[3])\n",
        "plt.show()"
      ],
      "metadata": {
        "id": "iZjtAyvhGPWK",
        "colab": {
          "base_uri": "https://localhost:8080/",
          "height": 434
        },
        "outputId": "53805608-aa34-4caf-9c31-5d135c691303"
      },
      "execution_count": 5,
      "outputs": [
        {
          "output_type": "display_data",
          "data": {
            "text/plain": [
              "<Figure size 640x480 with 4 Axes>"
            ],
            "image/png": "[encoded data removed]"
          },
          "metadata": {}
        }
      ]
    },
    {
      "cell_type": "markdown",
      "source": [
        "### 5. Define the Q-Network (CNN-based)\n",
        "\n",
        "Atari games involve image inputs, so we use a **Convolutional Neural Network (CNN)** instead of a fully connected network."
      ],
      "metadata": {
        "id": "wQ8M0p3tHo1L"
      }
    },
    {
      "cell_type": "code",
      "source": [
        "class DQN(nn.Module):\n",
        "    def __init__(self, action_dim):\n",
        "        super(DQN, self).__init__()\n",
        "        self.conv1 = nn.Conv2d(4, 32, kernel_size=8, stride=4)\n",
        "        self.conv2 = nn.Conv2d(32, 64, kernel_size=4, stride=2)\n",
        "        self.conv3 = nn.Conv2d(64, 64, kernel_size=3, stride=1)\n",
        "\n",
        "        self.fc1 = nn.Linear(64 * 7 * 7, 512)\n",
        "        self.fc2 = nn.Linear(512, action_dim)\n",
        "\n",
        "    def forward(self, x):\n",
        "        x = torch.relu(self.conv1(x))\n",
        "        x = torch.relu(self.conv2(x))\n",
        "        x = torch.relu(self.conv3(x))\n",
        "        x = x.view(x.size(0), -1)  # Flatten\n",
        "        x = torch.relu(self.fc1(x))\n",
        "        return self.fc2(x)  # No activation (raw Q-values)"
      ],
      "metadata": {
        "id": "GDNF0RcGHoij"
      },
      "execution_count": 6,
      "outputs": []
    },
    {
      "cell_type": "markdown",
      "source": [
        "### 6. Experience Replay Buffer"
      ],
      "metadata": {
        "id": "VoetLK7HHoSZ"
      }
    },
    {
      "cell_type": "code",
      "source": [
        "class ReplayBuffer:\n",
        "    def __init__(self, device, capacity=100000):\n",
        "        self.device = device\n",
        "        self.buffer = collections.deque(maxlen=capacity)\n",
        "\n",
        "    def push(self, state, action, reward, next_state, done):\n",
        "        self.buffer.append((state, action, reward, next_state, done))\n",
        "\n",
        "    def sample(self, batch_size):\n",
        "        batch = random.sample(self.buffer, batch_size)\n",
        "        states, actions, rewards, next_states, dones = zip(*batch)\n",
        "        return (\n",
        "            torch.tensor(np.array(states), dtype=torch.float).to(self.device),\n",
        "            torch.tensor(np.array(actions), dtype=torch.long).to(self.device),\n",
        "            torch.tensor(np.array(rewards), dtype=torch.float).to(self.device),\n",
        "            torch.tensor(np.array(next_states), dtype=torch.float).to(self.device),\n",
        "            torch.tensor(np.array(dones), dtype=torch.float).to(self.device),\n",
        "        )\n",
        "\n",
        "    def __len__(self):\n",
        "        return len(self.buffer)"
      ],
      "metadata": {
        "id": "K30ATHQCJHUj"
      },
      "execution_count": 7,
      "outputs": []
    },
    {
      "cell_type": "markdown",
      "source": [
        "### 7. Define DQN Agent"
      ],
      "metadata": {
        "id": "e86Uc0K4JQ9O"
      }
    },
    {
      "cell_type": "code",
      "source": [
        "class DQNAgent:\n",
        "    def __init__(self, device, action_dim):\n",
        "        self.device = device\n",
        "        self.q_network = DQN(action_dim).to(self.device)\n",
        "        self.target_network = DQN(action_dim).to(self.device)\n",
        "        self.target_network.load_state_dict(self.q_network.state_dict())\n",
        "        self.target_network.eval()\n",
        "\n",
        "        self.optimizer = optim.Adam(self.q_network.parameters(), lr=0.0001)\n",
        "        self.replay_buffer = ReplayBuffer(self.device)\n",
        "        self.gamma = 0.99\n",
        "        self.epsilon = 1.0\n",
        "        self.epsilon_decay = 0.995\n",
        "        self.epsilon_min = 0.05\n",
        "        self.batch_size = 64\n",
        "        self.start_training = 10000\n",
        "        self.train_every = 4\n",
        "        self.update_target_every = 1000\n",
        "        self.step_count = 0\n",
        "\n",
        "    def select_action(self, state):\n",
        "        \"\"\"Epsilon-Greedy Policy\"\"\"\n",
        "        if random.random() < self.epsilon:\n",
        "            return random.randint(0, action_dim - 1)\n",
        "        else:\n",
        "            state = torch.tensor(state, dtype=torch.float).unsqueeze(0).to(self.device)\n",
        "            q_values = self.q_network(state)\n",
        "            return torch.argmax(q_values).item()\n",
        "\n",
        "    def train(self):\n",
        "\n",
        "        self.step_count += 1\n",
        "\n",
        "        if self.step_count < self.start_training:\n",
        "            return\n",
        "\n",
        "        if self.step_count % self.train_every == 0:\n",
        "            states, actions, rewards, next_states, dones = self.replay_buffer.sample(self.batch_size)\n",
        "\n",
        "            q_values = self.q_network(states).gather(1, actions.unsqueeze(1)).squeeze(1)\n",
        "            with torch.no_grad():\n",
        "                next_q_values = self.target_network(next_states).max(1)[0]\n",
        "                target_q_values = rewards + self.gamma * next_q_values * (1 - dones)\n",
        "\n",
        "            loss = nn.MSELoss()(q_values, target_q_values)\n",
        "\n",
        "            self.optimizer.zero_grad()\n",
        "            loss.backward()\n",
        "            self.optimizer.step()\n",
        "\n",
        "        if self.step_count % self.update_target_every == 0:\n",
        "            self.target_network.load_state_dict(self.q_network.state_dict())\n",
        "\n",
        "        self.epsilon = max(self.epsilon_min, self.epsilon * self.epsilon_decay)\n"
      ],
      "metadata": {
        "id": "8vImBZtWJcJM"
      },
      "execution_count": 8,
      "outputs": []
    },
    {
      "cell_type": "markdown",
      "source": [
        "### 8. Train the Agent"
      ],
      "metadata": {
        "id": "PIoJYeurDA6A"
      }
    },
    {
      "cell_type": "code",
      "source": [
        "device = torch.device(\"cuda\" if torch.cuda.is_available() else \"cpu\")\n",
        "\n",
        "env = gym.make(\"ALE/MsPacman-v5\")\n",
        "env = gym.wrappers.ResizeObservation(env, (84, 84))\n",
        "env = gym.wrappers.GrayscaleObservation(env)\n",
        "env = gym.wrappers.FrameStackObservation(env, 4)\n",
        "\n",
        "action_dim = env.action_space.n\n",
        "agent = DQNAgent(device, action_dim)\n",
        "\n",
        "num_episodes = 1000 #1000\n",
        "reward_history = []\n",
        "\n",
        "for episode in range(num_episodes):\n",
        "    obs, _ = env.reset()\n",
        "    total_reward = 0\n",
        "\n",
        "    while True:\n",
        "        action = agent.select_action(obs)\n",
        "        next_obs, reward, done, _, _ = env.step(action)\n",
        "        agent.replay_buffer.push(obs, action, reward, next_obs, done)\n",
        "        agent.train()\n",
        "\n",
        "        obs = next_obs\n",
        "        total_reward += reward\n",
        "        if done:\n",
        "            break\n",
        "\n",
        "    reward_history.append(total_reward)\n",
        "    print(f\"Episode {episode}, Reward: {total_reward}, Epsilon: {agent.epsilon:.2f}\")\n",
        "\n",
        "env.close()"
      ],
      "metadata": {
        "colab": {
          "base_uri": "https://localhost:8080/"
        },
        "id": "wB-8oxt4JjHP",
        "outputId": "135b7881-7975-4f21-8d53-5fe1c030d79a"
      },
      "execution_count": null,
      "outputs": [
        {
          "output_type": "stream",
          "name": "stdout",
          "text": [
            "Episode 0, Reward: 230.0, Epsilon: 1.00\n",
            "Episode 1, Reward: 180.0, Epsilon: 1.00\n",
            "Episode 2, Reward: 290.0, Epsilon: 1.00\n",
            "Episode 3, Reward: 1110.0, Epsilon: 1.00\n",
            "Episode 4, Reward: 220.0, Epsilon: 1.00\n",
            "Episode 5, Reward: 370.0, Epsilon: 1.00\n",
            "Episode 6, Reward: 290.0, Epsilon: 1.00\n",
            "Episode 7, Reward: 290.0, Epsilon: 1.00\n",
            "Episode 8, Reward: 230.0, Epsilon: 1.00\n",
            "Episode 9, Reward: 300.0, Epsilon: 1.00\n",
            "Episode 10, Reward: 310.0, Epsilon: 1.00\n",
            "Episode 11, Reward: 210.0, Epsilon: 1.00\n",
            "Episode 12, Reward: 330.0, Epsilon: 1.00\n",
            "Episode 13, Reward: 280.0, Epsilon: 1.00\n",
            "Episode 14, Reward: 230.0, Epsilon: 1.00\n",
            "Episode 15, Reward: 300.0, Epsilon: 1.00\n",
            "Episode 16, Reward: 250.0, Epsilon: 1.00\n",
            "Episode 17, Reward: 340.0, Epsilon: 1.00\n",
            "Episode 18, Reward: 290.0, Epsilon: 1.00\n",
            "Episode 19, Reward: 250.0, Epsilon: 0.38\n",
            "Episode 20, Reward: 110.0, Epsilon: 0.08\n",
            "Episode 21, Reward: 300.0, Epsilon: 0.05\n",
            "Episode 22, Reward: 1020.0, Epsilon: 0.05\n",
            "Episode 23, Reward: 1210.0, Epsilon: 0.05\n",
            "Episode 24, Reward: 410.0, Epsilon: 0.05\n",
            "Episode 25, Reward: 860.0, Epsilon: 0.05\n",
            "Episode 26, Reward: 570.0, Epsilon: 0.05\n",
            "Episode 27, Reward: 1010.0, Epsilon: 0.05\n",
            "Episode 28, Reward: 690.0, Epsilon: 0.05\n",
            "Episode 29, Reward: 500.0, Epsilon: 0.05\n",
            "Episode 30, Reward: 80.0, Epsilon: 0.05\n",
            "Episode 31, Reward: 1230.0, Epsilon: 0.05\n",
            "Episode 32, Reward: 460.0, Epsilon: 0.05\n",
            "Episode 33, Reward: 530.0, Epsilon: 0.05\n",
            "Episode 34, Reward: 280.0, Epsilon: 0.05\n",
            "Episode 35, Reward: 780.0, Epsilon: 0.05\n",
            "Episode 36, Reward: 460.0, Epsilon: 0.05\n",
            "Episode 37, Reward: 1290.0, Epsilon: 0.05\n",
            "Episode 38, Reward: 640.0, Epsilon: 0.05\n",
            "Episode 39, Reward: 770.0, Epsilon: 0.05\n",
            "Episode 40, Reward: 260.0, Epsilon: 0.05\n",
            "Episode 41, Reward: 750.0, Epsilon: 0.05\n",
            "Episode 42, Reward: 630.0, Epsilon: 0.05\n",
            "Episode 43, Reward: 690.0, Epsilon: 0.05\n",
            "Episode 44, Reward: 1190.0, Epsilon: 0.05\n",
            "Episode 45, Reward: 750.0, Epsilon: 0.05\n",
            "Episode 46, Reward: 740.0, Epsilon: 0.05\n",
            "Episode 47, Reward: 570.0, Epsilon: 0.05\n",
            "Episode 48, Reward: 680.0, Epsilon: 0.05\n",
            "Episode 49, Reward: 400.0, Epsilon: 0.05\n",
            "Episode 50, Reward: 360.0, Epsilon: 0.05\n",
            "Episode 51, Reward: 340.0, Epsilon: 0.05\n",
            "Episode 52, Reward: 370.0, Epsilon: 0.05\n",
            "Episode 53, Reward: 820.0, Epsilon: 0.05\n",
            "Episode 54, Reward: 340.0, Epsilon: 0.05\n",
            "Episode 55, Reward: 950.0, Epsilon: 0.05\n",
            "Episode 56, Reward: 710.0, Epsilon: 0.05\n",
            "Episode 57, Reward: 240.0, Epsilon: 0.05\n",
            "Episode 58, Reward: 780.0, Epsilon: 0.05\n",
            "Episode 59, Reward: 650.0, Epsilon: 0.05\n",
            "Episode 60, Reward: 320.0, Epsilon: 0.05\n",
            "Episode 61, Reward: 490.0, Epsilon: 0.05\n",
            "Episode 62, Reward: 440.0, Epsilon: 0.05\n",
            "Episode 63, Reward: 440.0, Epsilon: 0.05\n"
          ]
        }
      ]
    },
    {
      "cell_type": "markdown",
      "source": [
        "### 9. Plot Training Results"
      ],
      "metadata": {
        "id": "uK98ET71PmSP"
      }
    },
    {
      "cell_type": "code",
      "source": [
        "plt.plot(reward_history)\n",
        "plt.xlabel(\"Episode\")\n",
        "plt.ylabel(\"Reward\")\n",
        "plt.title(\"DQN Training on Atari Pacman\")\n",
        "plt.show()"
      ],
      "metadata": {
        "id": "L0FYBVzZDWv7"
      },
      "execution_count": null,
      "outputs": []
    },
    {
      "cell_type": "markdown",
      "source": [
        "### 10. Evaluate the DQA agent"
      ],
      "metadata": {
        "id": "nzQ41aVDDwRF"
      }
    },
    {
      "cell_type": "code",
      "source": [
        "device = torch.device(\"cuda\" if torch.cuda.is_available() else \"cpu\")\n",
        "\n",
        "env = gym.make(\"ALE/MsPacman-v5\", render_mode=\"rgb_array\")\n",
        "\n",
        "# if you want to see the recored videos\n",
        "env = gym.wrappers.RecordVideo(\n",
        "    env,\n",
        "    video_folder=\"videos\", # define folder to save video\n",
        "    name_prefix=\"video-\",\n",
        ")\n",
        "\n",
        "env = gym.wrappers.ResizeObservation(env, (84, 84))\n",
        "env = gym.wrappers.GrayscaleObservation(env)\n",
        "env = gym.wrappers.FrameStackObservation(env, 4)\n",
        "\n",
        "num_episodes = 10\n",
        "reward_history = []\n",
        "\n",
        "for episode in range(num_episodes):\n",
        "    obs, _ = env.reset()\n",
        "    total_reward = 0\n",
        "\n",
        "    while True:\n",
        "        action = agent.select_action(obs)\n",
        "        next_obs, reward, done, _, _ = env.step(action)\n",
        "        obs = next_obs\n",
        "        total_reward += reward\n",
        "        if done:\n",
        "            break\n",
        "\n",
        "    reward_history.append(total_reward)\n",
        "    print(f\"Episode {episode}, Reward: {total_reward}, Epsilon: {agent.epsilon:.2f}\")\n",
        "\n",
        "env.close()\n",
        "print(f\"Average Reward: {np.mean(reward_history):2f}\")\n"
      ],
      "metadata": {
        "colab": {
          "base_uri": "https://localhost:8080/"
        },
        "id": "tRyFUcdcDtlg",
        "outputId": "cbd9ece7-aa8c-48bd-9306-0836e538b0f8"
      },
      "execution_count": 11,
      "outputs": [
        {
          "output_type": "stream",
          "name": "stderr",
          "text": [
            "/usr/local/lib/python3.11/dist-packages/gymnasium/wrappers/rendering.py:283: UserWarning: \u001b[33mWARN: Overwriting existing videos at /content/videos folder (try specifying a different `video_folder` for the `RecordVideo` wrapper if this is not desired)\u001b[0m\n",
            "  logger.warn(\n"
          ]
        },
        {
          "output_type": "stream",
          "name": "stdout",
          "text": [
            "Episode 0, Reward: 260.0, Epsilon: 1.00\n",
            "Episode 1, Reward: 440.0, Epsilon: 1.00\n",
            "Episode 2, Reward: 280.0, Epsilon: 1.00\n",
            "Episode 3, Reward: 200.0, Epsilon: 1.00\n",
            "Episode 4, Reward: 220.0, Epsilon: 1.00\n",
            "Episode 5, Reward: 200.0, Epsilon: 1.00\n",
            "Episode 6, Reward: 310.0, Epsilon: 1.00\n",
            "Episode 7, Reward: 160.0, Epsilon: 1.00\n",
            "Episode 8, Reward: 300.0, Epsilon: 1.00\n",
            "Episode 9, Reward: 170.0, Epsilon: 1.00\n",
            "Average Reward: 254.000000\n"
          ]
        }
      ]
    }
  ]
}